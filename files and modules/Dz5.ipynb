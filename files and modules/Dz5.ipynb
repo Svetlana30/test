{
 "cells": [
  {
   "cell_type": "code",
   "execution_count": 31,
   "metadata": {},
   "outputs": [],
   "source": [
    "import json\n",
    "\n",
    "purchases = {}\n",
    "with open('purchase_log.txt', 'r', encoding = 'utf-8') as f:\n",
    "    for line in f:\n",
    "        line = line.strip()\n",
    "        dict_ = json.loads(line)\n",
    "        purchases[dict_ ['user_id']] = dict_['category']\n",
    "f.close()\n",
    "   "
   ]
  },
  {
   "cell_type": "code",
   "execution_count": 41,
   "metadata": {},
   "outputs": [],
   "source": [
    "with open('visit_log.csv', 'r', encoding = 'utf-8') as f1:\n",
    "    with open('funnel.csv', 'w', encoding = 'utf-8') as f2:\n",
    "        for x in f1:\n",
    "            y = x.strip().split(',')\n",
    "            user = y[0]\n",
    "            if user in purchases:\n",
    "                f2.write(f'{purchases[user]}, {x}')\n",
    "            "
   ]
  },
  {
   "cell_type": "code",
   "execution_count": null,
   "metadata": {},
   "outputs": [],
   "source": []
  }
 ],
 "metadata": {
  "kernelspec": {
   "display_name": "Python 3",
   "language": "python",
   "name": "python3"
  },
  "language_info": {
   "codemirror_mode": {
    "name": "ipython",
    "version": 3
   },
   "file_extension": ".py",
   "mimetype": "text/x-python",
   "name": "python",
   "nbconvert_exporter": "python",
   "pygments_lexer": "ipython3",
   "version": "3.8.3"
  }
 },
 "nbformat": 4,
 "nbformat_minor": 4
}
