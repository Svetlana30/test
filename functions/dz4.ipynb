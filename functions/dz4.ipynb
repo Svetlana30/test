{
 "cells": [
  {
   "cell_type": "code",
   "execution_count": null,
   "metadata": {},
   "outputs": [],
   "source": [
    "documents = [\n",
    "{'type': 'passport', 'number': '2207 876234', 'name': 'Василий Гупкин'},\n",
    "{'type':'invoice', 'number': '11-2', 'name': 'Геннадий Покемонов'},\n",
    "{'type': 'insurance', 'number': '10006', 'name': 'Аристарх Павлов'}\n",
    "]\n",
    "\n",
    "directories = {\n",
    "'1': ['2207 876234', '11-2'],\n",
    "'2': ['10006'],\n",
    "'3': []\n",
    "}\n",
    "\n"
   ]
  },
  {
   "cell_type": "code",
   "execution_count": null,
   "metadata": {},
   "outputs": [],
   "source": [
    "def number_name():\n",
    "    user_input = input('Введите номер документа: ')\n",
    "    for document in documents:\n",
    "        number = document['number']\n",
    "        name = document['name']\n",
    "        if user_input == number:\n",
    "            print('Владелец документа', name)\n",
    "            return user_input\n",
    "    print('Документ не найден в базе')\n",
    "    return user_input\n",
    "number_name()"
   ]
  },
  {
   "cell_type": "code",
   "execution_count": null,
   "metadata": {},
   "outputs": [],
   "source": [
    "\n",
    "def shelf_number():\n",
    "    user_input_2 = input('Введите номер документа: ')\n",
    "    for shelf, number_2 in directories.items():\n",
    "        if user_input_2 == number_2:\n",
    "            print('Документ хранится на полке', shelf)\n",
    "            return user_input_2\n",
    "    print('Документ не найден в базе')\n",
    "    return user_input_2\n",
    "shelf_number()\n",
    "        "
   ]
  },
  {
   "cell_type": "code",
   "execution_count": null,
   "metadata": {},
   "outputs": [],
   "source": [
    "def add_shelf()\n",
    "    user_input_3 = input('Введите номер полки: ')\n",
    "    res = {}\n",
    "    for shelf in directories.keys():\n",
    "        if user_input_3 not in res\n",
    "    res.append(user_input_3)\n",
    "print('Полка добавлена')\n",
    "    "
   ]
  },
  {
   "cell_type": "code",
   "execution_count": null,
   "metadata": {},
   "outputs": [],
   "source": []
  }
 ],
 "metadata": {
  "kernelspec": {
   "display_name": "Python 3",
   "language": "python",
   "name": "python3"
  },
  "language_info": {
   "codemirror_mode": {
    "name": "ipython",
    "version": 3
   },
   "file_extension": ".py",
   "mimetype": "text/x-python",
   "name": "python",
   "nbconvert_exporter": "python",
   "pygments_lexer": "ipython3",
   "version": "3.8.3"
  }
 },
 "nbformat": 4,
 "nbformat_minor": 4
}
