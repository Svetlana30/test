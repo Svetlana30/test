{
 "cells": [
  {
   "cell_type": "code",
   "execution_count": 1,
   "metadata": {},
   "outputs": [],
   "source": [
    "documents = [\n",
    "{'type': 'passport', 'number': '2207 876234', 'name': 'Василий Гупкин'},\n",
    "{'type':'invoice', 'number': '11-2', 'name': 'Геннадий Покемонов'},\n",
    "{'type': 'insurance', 'number': '10006', 'name': 'Аристарх Павлов'}\n",
    "]\n",
    "\n",
    "directories = {\n",
    "'1': ['2207 876234', '11-2'],\n",
    "'2': ['10006'],\n",
    "'3': []\n",
    "}\n",
    "\n"
   ]
  },
  {
   "cell_type": "code",
   "execution_count": 2,
   "metadata": {},
   "outputs": [
    {
     "name": "stdout",
     "output_type": "stream",
     "text": [
      "Введите номер документа: 10006\n",
      "Владелец документа Аристарх Павлов\n"
     ]
    },
    {
     "data": {
      "text/plain": [
       "'10006'"
      ]
     },
     "execution_count": 2,
     "metadata": {},
     "output_type": "execute_result"
    }
   ],
   "source": [
    "# Поиск владельца по номеру документа\n",
    "def number_name():\n",
    "    user_input = input('Введите номер документа: ')\n",
    "    for document in documents:\n",
    "        if user_input == document['number']:\n",
    "            print('Владелец документа',document['name'])\n",
    "            return user_input\n",
    "    print('Документ не найден в базе')\n",
    "    return user_input\n",
    "number_name()"
   ]
  },
  {
   "cell_type": "code",
   "execution_count": 21,
   "metadata": {},
   "outputs": [
    {
     "name": "stdout",
     "output_type": "stream",
     "text": [
      "Введите номер документа: 11-2\n",
      "Документ хранится на полке 1\n"
     ]
    },
    {
     "data": {
      "text/plain": [
       "'1'"
      ]
     },
     "execution_count": 21,
     "metadata": {},
     "output_type": "execute_result"
    }
   ],
   "source": [
    "# Поиск полки по номеру документа\n",
    "user_input = input('Введите номер документа: ')\n",
    "def shelf_number(user_input):\n",
    "    for shelf, number in directories.items():\n",
    "        if user_input in number:\n",
    "            print('Документ хранится на полке', shelf)\n",
    "            return shelf\n",
    "    print('Документ не найден в базе')\n",
    "    return shelf\n",
    "shelf_number(user_input)\n",
    "        "
   ]
  },
  {
   "cell_type": "code",
   "execution_count": 4,
   "metadata": {},
   "outputs": [
    {
     "name": "stdout",
     "output_type": "stream",
     "text": [
      "Введите номер полки: 1\n",
      "Такая полка уже существует.Текущий перечень полок:1,2,3\n"
     ]
    },
    {
     "data": {
      "text/plain": [
       "'1'"
      ]
     },
     "execution_count": 4,
     "metadata": {},
     "output_type": "execute_result"
    }
   ],
   "source": [
    "# Добавление новой полки\n",
    "def add_shelf():\n",
    "    user_input= input('Введите номер полки: ')\n",
    "    if user_input in directories:\n",
    "        print(f'Такая полка уже существует.Текущий перечень полок:{\",\".join(list(directories.keys()))}')\n",
    "        return user_input\n",
    "    directories [user_input] = []\n",
    "    print(f'Полка добавлена.Текущий перечень полок:{\",\".join(list(directories.keys()))}')\n",
    "    return user_input\n",
    "    \n",
    "add_shelf()\n"
   ]
  },
  {
   "cell_type": "code",
   "execution_count": 4,
   "metadata": {},
   "outputs": [
    {
     "name": "stdout",
     "output_type": "stream",
     "text": [
      "Введите номер полки: 3\n",
      "Полка удалена. Текущий перечень полок:1,2\n"
     ]
    },
    {
     "data": {
      "text/plain": [
       "'3'"
      ]
     },
     "execution_count": 4,
     "metadata": {},
     "output_type": "execute_result"
    }
   ],
   "source": [
    "# Удаление полки\n",
    "def dell_shelf():\n",
    "    user_input= input('Введите номер полки: ')\n",
    "    if user_input in directories and directories.get(user_input,'Not Found') == []:\n",
    "        del directories[user_input]\n",
    "        print(f'Полка удалена. Текущий перечень полок:{\",\".join(list(directories.keys()))}')\n",
    "        return user_input\n",
    "    elif user_input in directories and directories.get(user_input,'Not Found') != []:\n",
    "        print(f'На полке есть документы. Удалите их перед удалением полки. Текущий перечень полок:{\",\".join(list(directories.keys()))}')\n",
    "        return user_input\n",
    "    else:\n",
    "        print(f'Такой полки не существует. Текущий перечень полок:{\",\".join(list(directories.keys()))}')  \n",
    "        return user_input \n",
    "\n",
    "dell_shelf()    "
   ]
  },
  {
   "cell_type": "code",
   "execution_count": 14,
   "metadata": {
    "scrolled": true
   },
   "outputs": [
    {
     "name": "stdout",
     "output_type": "stream",
     "text": [
      "Документ хранится на полке 1\n",
      "№: 2207 876234, тип: passport, владелец: Василий Гупкин, полка хранения:1\n",
      "Документ хранится на полке 1\n",
      "№: 11-2, тип: invoice, владелец: Геннадий Покемонов, полка хранения:1\n",
      "Документ хранится на полке 2\n",
      "№: 10006, тип: insurance, владелец: Аристарх Павлов, полка хранения:2\n"
     ]
    }
   ],
   "source": [
    "# Полная информация по всем документам\n",
    "\n",
    "def all_doc():\n",
    "    for el in documents:\n",
    "        print(f\"№: {el['number']}, тип: {el['type']}, владелец: {el['name']}, полка хранения:{shelf_number(el['number'])}\")\n",
    "    return\n",
    "    \n",
    "all_doc()"
   ]
  },
  {
   "cell_type": "code",
   "execution_count": null,
   "metadata": {},
   "outputs": [],
   "source": [
    "# Вызов команд\n",
    "def main():\n",
    "    while True:\n",
    "        user_input = input('Введите команду ')\n",
    "        if user_input == 'p':\n",
    "            print(number_name())\n",
    "        elif user_input == 's':\n",
    "            print(shelf_number(directories))\n",
    "        elif user_input == 'l':  \n",
    "            print(all_doc())\n",
    "        elif user_input == 'as':\n",
    "            print(add_shelf())\n",
    "        elif user_input == 'ds':\n",
    "            print(dell_shelf())\n",
    "        elif user_input == 'q':\n",
    "            print('До свидания!')\n",
    "            break\n",
    "main()"
   ]
  }
 ],
 "metadata": {
  "kernelspec": {
   "display_name": "Python 3",
   "language": "python",
   "name": "python3"
  },
  "language_info": {
   "codemirror_mode": {
    "name": "ipython",
    "version": 3
   },
   "file_extension": ".py",
   "mimetype": "text/x-python",
   "name": "python",
   "nbconvert_exporter": "python",
   "pygments_lexer": "ipython3",
   "version": "3.8.3"
  }
 },
 "nbformat": 4,
 "nbformat_minor": 4
}
