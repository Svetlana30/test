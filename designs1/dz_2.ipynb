{
 "cells": [
  {
   "cell_type": "code",
   "execution_count": 7,
   "metadata": {},
   "outputs": [
    {
     "name": "stdout",
     "output_type": "stream",
     "text": [
      "t\n"
     ]
    }
   ],
   "source": [
    "#задание 1\n",
    "x = 'testing'\n",
    "y = len(x)\n",
    "if y % 2 == 0:\n",
    "    z = y // 2\n",
    "    c = y // 2 - 1\n",
    "    print(x[z], x[c])\n",
    "else:\n",
    "    b = y // 2\n",
    "    print(x[b])\n"
   ]
  },
  {
   "cell_type": "code",
   "execution_count": 16,
   "metadata": {},
   "outputs": [
    {
     "name": "stdout",
     "output_type": "stream",
     "text": [
      "1\n",
      "2\n",
      "3\n",
      "4\n",
      "0\n",
      "9\n"
     ]
    }
   ],
   "source": [
    "#задание 2\n",
    "x = int(input())\n",
    "sum_1 = 0\n",
    "while x != 0:\n",
    "    x = int(input())\n",
    "    sum_1 += x\n",
    "    if x == 0:  \n",
    "        print(sum_1)\n",
    "        break"
   ]
  },
  {
   "cell_type": "code",
   "execution_count": 91,
   "metadata": {},
   "outputs": [
    {
     "ename": "SyntaxError",
     "evalue": "invalid syntax (<ipython-input-91-a4edf745d070>, line 5)",
     "output_type": "error",
     "traceback": [
      "\u001b[1;36m  File \u001b[1;32m\"<ipython-input-91-a4edf745d070>\"\u001b[1;36m, line \u001b[1;32m5\u001b[0m\n\u001b[1;33m    if len(girls) = len(boys):\u001b[0m\n\u001b[1;37m                  ^\u001b[0m\n\u001b[1;31mSyntaxError\u001b[0m\u001b[1;31m:\u001b[0m invalid syntax\n"
     ]
    }
   ],
   "source": [
    "#задание 3\n",
    "boys = ['Peter', 'Alex', 'Jhon', 'Arthur']\n",
    "girls = ['Kate', 'liza', 'Kira', 'Emma', 'Trisha']\n",
    "pairs = zip (sorted(boys), sorted(girls))\n",
    "if len(girls) = len(boys):\n",
    "    for pair in pairs: \n",
    "        print(pair[0], 'и', pair[1])\n",
    "else:\n",
    "        print('Внимание, кто-то может остаться без пары')\n",
    "    "
   ]
  },
  {
   "cell_type": "code",
   "execution_count": 38,
   "metadata": {},
   "outputs": [
    {
     "name": "stdout",
     "output_type": "stream",
     "text": [
      "Thailand - 74.0 C\n",
      "Germany - 56.0 C\n",
      "Russia - 38.0 C\n",
      "Poland - 53.0 C\n"
     ]
    }
   ],
   "source": [
    "#задание 4\n",
    "countries_temperature = [\n",
    "['Thailand', [75.2, 77, 78.8, 73.4, 68, 75.2, 77]],\n",
    "['Germany', [57.2, 55.4, 59, 59, 53.6]],\n",
    "['Russia', [35.6, 37.4, 39.2, 41, 42.8, 39.2, 35.6]],\n",
    "['Poland', [50, 50, 53.6, 57.2, 55.4, 55.4]]\n",
    "]\n",
    "gr = 0\n",
    "sum_t = 0\n",
    "sr = 0\n",
    "for temp in countries_temperature:\n",
    "    gr = len(temp[1])\n",
    "    sum_t = sum(temp[1])\n",
    "    sr = sum_t // gr\n",
    "    print(temp[0], '-', sr, 'C')\n"
   ]
  },
  {
   "cell_type": "code",
   "execution_count": null,
   "metadata": {},
   "outputs": [],
   "source": []
  },
  {
   "cell_type": "code",
   "execution_count": null,
   "metadata": {},
   "outputs": [],
   "source": []
  }
 ],
 "metadata": {
  "kernelspec": {
   "display_name": "Python 3",
   "language": "python",
   "name": "python3"
  },
  "language_info": {
   "codemirror_mode": {
    "name": "ipython",
    "version": 3
   },
   "file_extension": ".py",
   "mimetype": "text/x-python",
   "name": "python",
   "nbconvert_exporter": "python",
   "pygments_lexer": "ipython3",
   "version": "3.8.3"
  }
 },
 "nbformat": 4,
 "nbformat_minor": 4
}
