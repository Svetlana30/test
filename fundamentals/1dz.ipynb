{
 "cells": [
  {
   "cell_type": "code",
   "execution_count": 2,
   "metadata": {},
   "outputs": [
    {
     "name": "stdout",
     "output_type": "stream",
     "text": [
      "Фразы равной длины\n"
     ]
    }
   ],
   "source": [
    "#задание 1\n",
    "phrase_1='Насколько проще было бы писать программы, если бы не заказчики'\n",
    "phrase_2='Насколько проще было бы писать программы, если бы не заказчики'\n",
    "if len(phrase_1) > len(phrase_2):\n",
    "    print('Фраза 1 длиннее фразы 2')\n",
    "elif len(phrase_2) > len(phrase_1):\n",
    "    print('Фраза 2 длиннее фразы 1')\n",
    "else:\n",
    "    print('Фразы равной длины')"
   ]
  },
  {
   "cell_type": "code",
   "execution_count": 5,
   "metadata": {},
   "outputs": [
    {
     "name": "stdout",
     "output_type": "stream",
     "text": [
      "Обычный год\n"
     ]
    }
   ],
   "source": [
    "#задание 2\n",
    "year=2018\n",
    "if year % 4 == 0 and year % 100 != 0 or year % 400 == 0:\n",
    "    print('Високосный год')\n",
    "else: \n",
    "    print('Обычный год')"
   ]
  },
  {
   "cell_type": "code",
   "execution_count": 2,
   "metadata": {},
   "outputs": [
    {
     "name": "stdout",
     "output_type": "stream",
     "text": [
      "лев\n"
     ]
    }
   ],
   "source": [
    "#задание 3\n",
    "day=6\n",
    "month='август'\n",
    "if day >= 22 and month == 'декабрь' or day <= 19 and month == 'январь':\n",
    "    print('козерог')\n",
    "elif day >=20 and month == 'январь' or day <=19 and month == 'февраль':\n",
    "    print('водолей')\n",
    "elif day >=20 and month == 'февраль' or day <=21 and month == 'март':\n",
    "    print('рыбы')\n",
    "elif day >=20 and month == 'февраль' or day <=21 and month == 'март':\n",
    "    print('рыбы')\n",
    "elif day >=22 and month == 'апрель' or day <=21 and month == 'май':\n",
    "    print('телец')   \n",
    "elif day >=22 and month == 'май' or day <=21 and month == 'июнь':\n",
    "    print('близнецы') \n",
    "elif day >=22 and month == 'июнь' or day <=21 and month == 'июль':\n",
    "    print('рак')\n",
    "elif day >=22 and month == 'июль' or day <=21 and month == 'август':\n",
    "    print('лев')\n",
    "elif day >=22 and month == 'август' or day <=21 and month == 'сентябрь':\n",
    "    print('дева')\n",
    "elif day >=22 and month == 'сентябрь' or day <=21 and month == 'октябрь':\n",
    "    print('весы')\n",
    "elif day >=22 and month == 'октябрь' or day <=20 and month == 'ноябрь':\n",
    "    print('скорпион')\n",
    "else:\n",
    "    print('стрелец')"
   ]
  },
  {
   "cell_type": "code",
   "execution_count": 19,
   "metadata": {},
   "outputs": [
    {
     "name": "stdout",
     "output_type": "stream",
     "text": [
      "Коробка №2\n"
     ]
    }
   ],
   "source": [
    "#задание 4\n",
    "width=45\n",
    "length=60\n",
    "height=50\n",
    "if width < 15 and length < 15 and height < 15:\n",
    "    print('Коробка №1')\n",
    "elif length > 200:\n",
    "    print('Упаковка для лыж')  \n",
    "elif width > 15 and  width < 50 or height > 15 and height < 50 or length > 15 and length < 50:\n",
    "    print('Коробка №2')\n",
    "else:\n",
    "    print('Стандартная упаковка №3')\n",
    "    "
   ]
  },
  {
   "cell_type": "code",
   "execution_count": null,
   "metadata": {},
   "outputs": [],
   "source": []
  }
 ],
 "metadata": {
  "kernelspec": {
   "display_name": "Python 3",
   "language": "python",
   "name": "python3"
  },
  "language_info": {
   "codemirror_mode": {
    "name": "ipython",
    "version": 3
   },
   "file_extension": ".py",
   "mimetype": "text/x-python",
   "name": "python",
   "nbconvert_exporter": "python",
   "pygments_lexer": "ipython3",
   "version": "3.8.3"
  }
 },
 "nbformat": 4,
 "nbformat_minor": 4
}
